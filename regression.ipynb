{
 "cells": [
  {
   "cell_type": "markdown",
   "metadata": {},
   "source": [
    "# Linear Regression"
   ]
  },
  {
   "cell_type": "markdown",
   "metadata": {},
   "source": [
    "## import libraries :"
   ]
  },
  {
   "cell_type": "code",
   "execution_count": 82,
   "metadata": {},
   "outputs": [],
   "source": [
    "import pandas as pd"
   ]
  },
  {
   "cell_type": "code",
   "execution_count": 83,
   "metadata": {},
   "outputs": [],
   "source": [
    "import matplotlib.pyplot as plt"
   ]
  },
  {
   "cell_type": "code",
   "execution_count": 120,
   "metadata": {},
   "outputs": [],
   "source": [
    "from sklearn.linear_model import LinearRegression"
   ]
  },
  {
   "cell_type": "code",
   "execution_count": 121,
   "metadata": {},
   "outputs": [],
   "source": [
    "from sklearn.model_selection import train_test_split"
   ]
  },
  {
   "cell_type": "markdown",
   "metadata": {},
   "source": [
    "## load data into Pandas :"
   ]
  },
  {
   "cell_type": "code",
   "execution_count": 102,
   "metadata": {},
   "outputs": [],
   "source": [
    "insurance_file=pd.read_csv('insurance.csv')"
   ]
  },
  {
   "cell_type": "markdown",
   "metadata": {},
   "source": [
    "## showing the first five rows of the data :"
   ]
  },
  {
   "cell_type": "code",
   "execution_count": 103,
   "metadata": {},
   "outputs": [
    {
     "data": {
      "text/html": [
       "<div>\n",
       "<style scoped>\n",
       "    .dataframe tbody tr th:only-of-type {\n",
       "        vertical-align: middle;\n",
       "    }\n",
       "\n",
       "    .dataframe tbody tr th {\n",
       "        vertical-align: top;\n",
       "    }\n",
       "\n",
       "    .dataframe thead th {\n",
       "        text-align: right;\n",
       "    }\n",
       "</style>\n",
       "<table border=\"1\" class=\"dataframe\">\n",
       "  <thead>\n",
       "    <tr style=\"text-align: right;\">\n",
       "      <th></th>\n",
       "      <th>age</th>\n",
       "      <th>sex</th>\n",
       "      <th>bmi</th>\n",
       "      <th>children</th>\n",
       "      <th>smoker</th>\n",
       "      <th>region</th>\n",
       "      <th>charges</th>\n",
       "    </tr>\n",
       "  </thead>\n",
       "  <tbody>\n",
       "    <tr>\n",
       "      <th>0</th>\n",
       "      <td>19</td>\n",
       "      <td>female</td>\n",
       "      <td>27.900</td>\n",
       "      <td>0</td>\n",
       "      <td>yes</td>\n",
       "      <td>southwest</td>\n",
       "      <td>16884.92400</td>\n",
       "    </tr>\n",
       "    <tr>\n",
       "      <th>1</th>\n",
       "      <td>18</td>\n",
       "      <td>male</td>\n",
       "      <td>33.770</td>\n",
       "      <td>1</td>\n",
       "      <td>no</td>\n",
       "      <td>southeast</td>\n",
       "      <td>1725.55230</td>\n",
       "    </tr>\n",
       "    <tr>\n",
       "      <th>2</th>\n",
       "      <td>28</td>\n",
       "      <td>male</td>\n",
       "      <td>33.000</td>\n",
       "      <td>3</td>\n",
       "      <td>no</td>\n",
       "      <td>southeast</td>\n",
       "      <td>4449.46200</td>\n",
       "    </tr>\n",
       "    <tr>\n",
       "      <th>3</th>\n",
       "      <td>33</td>\n",
       "      <td>male</td>\n",
       "      <td>22.705</td>\n",
       "      <td>0</td>\n",
       "      <td>no</td>\n",
       "      <td>northwest</td>\n",
       "      <td>21984.47061</td>\n",
       "    </tr>\n",
       "    <tr>\n",
       "      <th>4</th>\n",
       "      <td>32</td>\n",
       "      <td>male</td>\n",
       "      <td>28.880</td>\n",
       "      <td>0</td>\n",
       "      <td>no</td>\n",
       "      <td>northwest</td>\n",
       "      <td>3866.85520</td>\n",
       "    </tr>\n",
       "  </tbody>\n",
       "</table>\n",
       "</div>"
      ],
      "text/plain": [
       "   age     sex     bmi  children smoker     region      charges\n",
       "0   19  female  27.900         0    yes  southwest  16884.92400\n",
       "1   18    male  33.770         1     no  southeast   1725.55230\n",
       "2   28    male  33.000         3     no  southeast   4449.46200\n",
       "3   33    male  22.705         0     no  northwest  21984.47061\n",
       "4   32    male  28.880         0     no  northwest   3866.85520"
      ]
     },
     "execution_count": 103,
     "metadata": {},
     "output_type": "execute_result"
    }
   ],
   "source": [
    "insurance_file.head(5)"
   ]
  },
  {
   "cell_type": "markdown",
   "metadata": {},
   "source": [
    "## Description of the data set :"
   ]
  },
  {
   "cell_type": "code",
   "execution_count": 104,
   "metadata": {},
   "outputs": [
    {
     "data": {
      "text/html": [
       "<div>\n",
       "<style scoped>\n",
       "    .dataframe tbody tr th:only-of-type {\n",
       "        vertical-align: middle;\n",
       "    }\n",
       "\n",
       "    .dataframe tbody tr th {\n",
       "        vertical-align: top;\n",
       "    }\n",
       "\n",
       "    .dataframe thead th {\n",
       "        text-align: right;\n",
       "    }\n",
       "</style>\n",
       "<table border=\"1\" class=\"dataframe\">\n",
       "  <thead>\n",
       "    <tr style=\"text-align: right;\">\n",
       "      <th></th>\n",
       "      <th>age</th>\n",
       "      <th>bmi</th>\n",
       "      <th>children</th>\n",
       "      <th>charges</th>\n",
       "    </tr>\n",
       "  </thead>\n",
       "  <tbody>\n",
       "    <tr>\n",
       "      <th>count</th>\n",
       "      <td>1338.000000</td>\n",
       "      <td>1338.000000</td>\n",
       "      <td>1338.000000</td>\n",
       "      <td>1338.000000</td>\n",
       "    </tr>\n",
       "    <tr>\n",
       "      <th>mean</th>\n",
       "      <td>39.207025</td>\n",
       "      <td>30.663397</td>\n",
       "      <td>1.094918</td>\n",
       "      <td>13270.422265</td>\n",
       "    </tr>\n",
       "    <tr>\n",
       "      <th>std</th>\n",
       "      <td>14.049960</td>\n",
       "      <td>6.098187</td>\n",
       "      <td>1.205493</td>\n",
       "      <td>12110.011237</td>\n",
       "    </tr>\n",
       "    <tr>\n",
       "      <th>min</th>\n",
       "      <td>18.000000</td>\n",
       "      <td>15.960000</td>\n",
       "      <td>0.000000</td>\n",
       "      <td>1121.873900</td>\n",
       "    </tr>\n",
       "    <tr>\n",
       "      <th>25%</th>\n",
       "      <td>27.000000</td>\n",
       "      <td>26.296250</td>\n",
       "      <td>0.000000</td>\n",
       "      <td>4740.287150</td>\n",
       "    </tr>\n",
       "    <tr>\n",
       "      <th>50%</th>\n",
       "      <td>39.000000</td>\n",
       "      <td>30.400000</td>\n",
       "      <td>1.000000</td>\n",
       "      <td>9382.033000</td>\n",
       "    </tr>\n",
       "    <tr>\n",
       "      <th>75%</th>\n",
       "      <td>51.000000</td>\n",
       "      <td>34.693750</td>\n",
       "      <td>2.000000</td>\n",
       "      <td>16639.912515</td>\n",
       "    </tr>\n",
       "    <tr>\n",
       "      <th>max</th>\n",
       "      <td>64.000000</td>\n",
       "      <td>53.130000</td>\n",
       "      <td>5.000000</td>\n",
       "      <td>63770.428010</td>\n",
       "    </tr>\n",
       "  </tbody>\n",
       "</table>\n",
       "</div>"
      ],
      "text/plain": [
       "               age          bmi     children       charges\n",
       "count  1338.000000  1338.000000  1338.000000   1338.000000\n",
       "mean     39.207025    30.663397     1.094918  13270.422265\n",
       "std      14.049960     6.098187     1.205493  12110.011237\n",
       "min      18.000000    15.960000     0.000000   1121.873900\n",
       "25%      27.000000    26.296250     0.000000   4740.287150\n",
       "50%      39.000000    30.400000     1.000000   9382.033000\n",
       "75%      51.000000    34.693750     2.000000  16639.912515\n",
       "max      64.000000    53.130000     5.000000  63770.428010"
      ]
     },
     "execution_count": 104,
     "metadata": {},
     "output_type": "execute_result"
    }
   ],
   "source": [
    "insurance_file.describe()"
   ]
  },
  {
   "cell_type": "markdown",
   "metadata": {},
   "source": [
    "## Information for anyrow of the data set :"
   ]
  },
  {
   "cell_type": "code",
   "execution_count": null,
   "metadata": {},
   "outputs": [],
   "source": []
  },
  {
   "cell_type": "code",
   "execution_count": 105,
   "metadata": {},
   "outputs": [
    {
     "name": "stdout",
     "output_type": "stream",
     "text": [
      "<class 'pandas.core.frame.DataFrame'>\n",
      "RangeIndex: 1338 entries, 0 to 1337\n",
      "Data columns (total 7 columns):\n",
      " #   Column    Non-Null Count  Dtype  \n",
      "---  ------    --------------  -----  \n",
      " 0   age       1338 non-null   int64  \n",
      " 1   sex       1338 non-null   object \n",
      " 2   bmi       1338 non-null   float64\n",
      " 3   children  1338 non-null   int64  \n",
      " 4   smoker    1338 non-null   object \n",
      " 5   region    1338 non-null   object \n",
      " 6   charges   1338 non-null   float64\n",
      "dtypes: float64(2), int64(2), object(3)\n",
      "memory usage: 73.3+ KB\n"
     ]
    }
   ],
   "source": [
    "insurance_file.info()"
   ]
  },
  {
   "cell_type": "code",
   "execution_count": 106,
   "metadata": {},
   "outputs": [
    {
     "data": {
      "text/plain": [
       "age                25\n",
       "sex              male\n",
       "bmi             26.22\n",
       "children            0\n",
       "smoker             no\n",
       "region      northeast\n",
       "charges       2721.32\n",
       "Name: 10, dtype: object"
      ]
     },
     "execution_count": 106,
     "metadata": {},
     "output_type": "execute_result"
    }
   ],
   "source": [
    "insurance_file.iloc[10]"
   ]
  },
  {
   "cell_type": "code",
   "execution_count": null,
   "metadata": {},
   "outputs": [],
   "source": []
  },
  {
   "cell_type": "markdown",
   "metadata": {},
   "source": [
    "## Split data into train and test :"
   ]
  },
  {
   "cell_type": "markdown",
   "metadata": {},
   "source": [
    " - showing the avarage of somker male and females:"
   ]
  },
  {
   "cell_type": "code",
   "execution_count": 107,
   "metadata": {},
   "outputs": [],
   "source": [
    "age=insurance_file['age'].values"
   ]
  },
  {
   "cell_type": "code",
   "execution_count": 108,
   "metadata": {},
   "outputs": [
    {
     "data": {
      "text/plain": [
       "array([19, 18, 28, ..., 18, 21, 61])"
      ]
     },
     "execution_count": 108,
     "metadata": {},
     "output_type": "execute_result"
    }
   ],
   "source": [
    "age"
   ]
  },
  {
   "cell_type": "code",
   "execution_count": 109,
   "metadata": {},
   "outputs": [],
   "source": [
    "BMI_disease=insurance_file['bmi'].values"
   ]
  },
  {
   "cell_type": "code",
   "execution_count": 110,
   "metadata": {},
   "outputs": [
    {
     "data": {
      "text/plain": [
       "array([27.9 , 33.77, 33.  , ..., 36.85, 25.8 , 29.07])"
      ]
     },
     "execution_count": 110,
     "metadata": {},
     "output_type": "execute_result"
    }
   ],
   "source": [
    "BMI_disease"
   ]
  },
  {
   "cell_type": "code",
   "execution_count": 111,
   "metadata": {},
   "outputs": [],
   "source": [
    "age=age.reshape(-1,1)"
   ]
  },
  {
   "cell_type": "code",
   "execution_count": 112,
   "metadata": {},
   "outputs": [
    {
     "data": {
      "text/plain": [
       "array([[19],\n",
       "       [18],\n",
       "       [28],\n",
       "       ...,\n",
       "       [18],\n",
       "       [21],\n",
       "       [61]])"
      ]
     },
     "execution_count": 112,
     "metadata": {},
     "output_type": "execute_result"
    }
   ],
   "source": [
    "age"
   ]
  },
  {
   "cell_type": "code",
   "execution_count": 113,
   "metadata": {},
   "outputs": [],
   "source": [
    "age_train, age_test, bmi_train, bmi_test=train_test_split(age ,BMI_disease ,train_size=0.8, test_size=0.2, random_state=100)"
   ]
  },
  {
   "cell_type": "markdown",
   "metadata": {},
   "source": [
    "## Let's plot the training data - Visualization purposes¶\n"
   ]
  },
  {
   "cell_type": "code",
   "execution_count": 114,
   "metadata": {},
   "outputs": [
    {
     "data": {
      "image/png": "[encoded data removed]",
      "text/plain": [
       "<Figure size 432x288 with 1 Axes>"
      ]
     },
     "metadata": {
      "needs_background": "light"
     },
     "output_type": "display_data"
    }
   ],
   "source": [
    "%matplotlib inline\n",
    "plt.scatter(age_train, bmi_train, color='blue')\n",
    "plt.ylabel('Age of peopl')\n",
    "plt.xlabel('BMI_disease')\n",
    "plt.title('Ages with BMI disease')\n",
    "plt.show()"
   ]
  },
  {
   "cell_type": "markdown",
   "metadata": {},
   "source": [
    "=======================Model===================="
   ]
  },
  {
   "cell_type": "code",
   "execution_count": 123,
   "metadata": {},
   "outputs": [
    {
     "data": {
      "text/plain": [
       "LinearRegression()"
      ]
     },
     "execution_count": 123,
     "metadata": {},
     "output_type": "execute_result"
    }
   ],
   "source": [
    "model = LinearRegression()\n",
    "model.fit(age_train, bmi_train)"
   ]
  },
  {
   "cell_type": "markdown",
   "metadata": {},
   "source": [
    "## showing the predict and  data"
   ]
  },
  {
   "cell_type": "code",
   "execution_count": 124,
   "metadata": {},
   "outputs": [],
   "source": [
    "predict = model.predict(age_test)"
   ]
  },
  {
   "cell_type": "code",
   "execution_count": 125,
   "metadata": {},
   "outputs": [
    {
     "data": {
      "text/plain": [
       "array([29.92841062, 30.16812129, 30.93519543, 29.78458421, 29.68869995,\n",
       "       31.84609598, 31.75021171, 29.83252635, 30.45577409, 31.75021171,\n",
       "       31.07902184, 30.02429489, 31.0310797 , 30.02429489, 30.98313757,\n",
       "       30.31194769, 31.41461677, 31.1749061 , 30.50371623, 31.60638531,\n",
       "       31.46255891, 29.83252635, 30.98313757, 30.83931117, 31.27079037,\n",
       "       30.31194769, 30.16812129, 31.75021171, 30.8872533 , 31.79815385,\n",
       "       31.31873251, 29.78458421, 31.65432745, 29.68869995, 30.7434269 ,\n",
       "       31.84609598, 30.26400556, 30.59960049, 30.26400556, 31.75021171,\n",
       "       30.93519543, 30.83931117, 30.12017915, 30.31194769, 29.68869995,\n",
       "       30.35988982, 30.45577409, 29.78458421, 29.68869995, 30.69548476,\n",
       "       31.84609598, 31.12696397, 29.78458421, 30.83931117, 30.83931117,\n",
       "       31.51050104, 31.36667464, 30.35988982, 30.59960049, 31.46255891,\n",
       "       29.73664208, 29.88046848, 30.21606342, 31.12696397, 31.46255891,\n",
       "       29.92841062, 29.68869995, 30.50371623, 30.35988982, 30.8872533 ,\n",
       "       31.27079037, 30.40783196, 31.79815385, 30.26400556, 31.0310797 ,\n",
       "       29.68869995, 31.31873251, 31.12696397, 31.79815385, 30.98313757,\n",
       "       29.88046848, 30.59960049, 30.69548476, 30.07223702, 30.98313757,\n",
       "       31.70226958, 31.70226958, 30.7434269 , 30.40783196, 30.35988982,\n",
       "       30.07223702, 31.0310797 , 31.27079037, 29.73664208, 30.59960049,\n",
       "       30.79136903, 31.0310797 , 30.45577409, 30.69548476, 30.12017915,\n",
       "       30.16812129, 29.88046848, 31.12696397, 30.98313757, 29.73664208,\n",
       "       31.51050104, 29.88046848, 30.8872533 , 31.75021171, 29.97635275,\n",
       "       31.31873251, 30.40783196, 31.55844318, 31.55844318, 30.83931117,\n",
       "       31.84609598, 29.83252635, 31.89403812, 30.69548476, 30.93519543,\n",
       "       30.50371623, 30.40783196, 31.65432745, 31.70226958, 31.31873251,\n",
       "       31.07902184, 31.55844318, 30.07223702, 30.64754263, 31.36667464,\n",
       "       30.02429489, 30.79136903, 30.31194769, 31.46255891, 29.78458421,\n",
       "       30.12017915, 31.41461677, 30.26400556, 30.64754263, 31.0310797 ,\n",
       "       29.78458421, 30.12017915, 29.73664208, 30.83931117, 30.69548476,\n",
       "       31.31873251, 31.70226958, 30.21606342, 31.27079037, 30.7434269 ,\n",
       "       31.41461677, 30.12017915, 30.55165836, 31.36667464, 31.51050104,\n",
       "       31.07902184, 30.31194769, 31.12696397, 31.22284824, 30.12017915,\n",
       "       31.0310797 , 29.73664208, 30.26400556, 31.12696397, 30.12017915,\n",
       "       31.60638531, 29.68869995, 30.93519543, 31.89403812, 31.70226958,\n",
       "       31.75021171, 29.88046848, 30.31194769, 29.73664208, 30.69548476,\n",
       "       30.79136903, 29.88046848, 30.83931117, 31.65432745, 29.68869995,\n",
       "       30.98313757, 29.78458421, 30.69548476, 31.51050104, 30.07223702,\n",
       "       29.73664208, 30.16812129, 31.41461677, 30.7434269 , 31.89403812,\n",
       "       29.73664208, 31.12696397, 29.73664208, 31.0310797 , 30.12017915,\n",
       "       30.50371623, 30.59960049, 29.68869995, 31.1749061 , 31.65432745,\n",
       "       30.21606342, 30.35988982, 29.97635275, 30.79136903, 31.65432745,\n",
       "       31.31873251, 31.31873251, 31.89403812, 29.97635275, 30.45577409,\n",
       "       31.1749061 , 29.97635275, 30.02429489, 31.75021171, 30.83931117,\n",
       "       30.31194769, 30.8872533 , 30.55165836, 29.92841062, 29.73664208,\n",
       "       31.70226958, 31.89403812, 30.55165836, 30.93519543, 31.1749061 ,\n",
       "       31.27079037, 30.35988982, 29.88046848, 31.60638531, 30.69548476,\n",
       "       31.36667464, 30.69548476, 31.51050104, 30.7434269 , 30.45577409,\n",
       "       31.12696397, 30.16812129, 30.55165836, 31.60638531, 31.0310797 ,\n",
       "       30.45577409, 29.88046848, 30.21606342, 31.07902184, 30.45577409,\n",
       "       30.83931117, 29.73664208, 31.79815385, 30.98313757, 29.88046848,\n",
       "       30.12017915, 30.45577409, 29.97635275, 31.36667464, 31.31873251,\n",
       "       29.78458421, 30.35988982, 31.51050104, 30.21606342, 30.64754263,\n",
       "       29.73664208, 30.93519543, 30.64754263, 29.78458421, 29.68869995,\n",
       "       31.79815385, 31.0310797 , 31.65432745])"
      ]
     },
     "execution_count": 125,
     "metadata": {},
     "output_type": "execute_result"
    }
   ],
   "source": [
    "predict"
   ]
  },
  {
   "cell_type": "code",
   "execution_count": null,
   "metadata": {},
   "outputs": [],
   "source": []
  },
  {
   "cell_type": "markdown",
   "metadata": {},
   "source": [
    "## calculate the accurancy for train and test"
   ]
  },
  {
   "cell_type": "code",
   "execution_count": 130,
   "metadata": {},
   "outputs": [
    {
     "name": "stdout",
     "output_type": "stream",
     "text": [
      "Training acurrancy:1.2028150601788634%\n"
     ]
    }
   ],
   "source": [
    "print(f'Training acurrancy:{model.score(age_train, bmi_train)*100}%')"
   ]
  },
  {
   "cell_type": "code",
   "execution_count": 132,
   "metadata": {},
   "outputs": [
    {
     "name": "stdout",
     "output_type": "stream",
     "text": [
      "Testing acurrancy: 1.044440656600687%\n"
     ]
    }
   ],
   "source": [
    "print(f'Testing acurrancy: {model.score(age_test, bmi_test)*100}%')"
   ]
  },
  {
   "cell_type": "markdown",
   "metadata": {},
   "source": [
    "## visualization the model score:"
   ]
  },
  {
   "cell_type": "code",
   "execution_count": 135,
   "metadata": {},
   "outputs": [
    {
     "data": {
      "image/png": "[encoded data removed]",
      "text/plain": [
       "<Figure size 432x288 with 1 Axes>"
      ]
     },
     "metadata": {
      "needs_background": "light"
     },
     "output_type": "display_data"
    }
   ],
   "source": [
    "plt.scatter(age_train, bmi_train, color='blue')\n",
    "plt.scatter(age_test, bmi_test, color='red')\n",
    "plt.plot(age_test, predict, color='black')\n",
    "plt.ylabel('Age of peopl')\n",
    "plt.xlabel('BMI_disease')\n",
    "plt.title('Ages with BMI disease')\n",
    "plt.show()"
   ]
  },
  {
   "cell_type": "markdown",
   "metadata": {},
   "source": [
    "## Conclusion: Number of children with bmi\n"
   ]
  },
  {
   "cell_type": "code",
   "execution_count": 152,
   "metadata": {},
   "outputs": [],
   "source": [
    "number_of_children=insurance_file['children'].values\n"
   ]
  },
  {
   "cell_type": "code",
   "execution_count": 161,
   "metadata": {},
   "outputs": [],
   "source": [
    "number_of_children=number_of_children.reshape(-1,1)"
   ]
  },
  {
   "cell_type": "code",
   "execution_count": 165,
   "metadata": {},
   "outputs": [],
   "source": [
    "BMI_disease=BMI_disease.reshape(-1,1)"
   ]
  },
  {
   "cell_type": "code",
   "execution_count": 166,
   "metadata": {},
   "outputs": [],
   "source": [
    "BMI_disease_train, BMI_disease_test, number_of_children_train, number_of_children_test=train_test_split(BMI_disease, number_of_children, train_size=0.8, test_size=0.2, random_state=100)"
   ]
  },
  {
   "cell_type": "code",
   "execution_count": 167,
   "metadata": {},
   "outputs": [
    {
     "data": {
      "image/png": "[encoded data removed]",
      "text/plain": [
       "<Figure size 432x288 with 1 Axes>"
      ]
     },
     "metadata": {
      "needs_background": "light"
     },
     "output_type": "display_data"
    }
   ],
   "source": [
    "plt.scatter(BMI_disease_train, number_of_children_train, color='blue')\n",
    "plt.show()"
   ]
  },
  {
   "cell_type": "code",
   "execution_count": 168,
   "metadata": {},
   "outputs": [
    {
     "data": {
      "text/plain": [
       "LinearRegression()"
      ]
     },
     "execution_count": 168,
     "metadata": {},
     "output_type": "execute_result"
    }
   ],
   "source": [
    "model = LinearRegression()\n",
    "model.fit(BMI_disease_train, number_of_children_train)"
   ]
  },
  {
   "cell_type": "code",
   "execution_count": 169,
   "metadata": {},
   "outputs": [
    {
     "name": "stdout",
     "output_type": "stream",
     "text": [
      "The Training of model data is: 0.0526144847381782%\n"
     ]
    }
   ],
   "source": [
    "print(f'The Training of model data is: {model.score(BMI_disease_train, number_of_children_train)*100}%')"
   ]
  },
  {
   "cell_type": "code",
   "execution_count": 170,
   "metadata": {},
   "outputs": [
    {
     "name": "stdout",
     "output_type": "stream",
     "text": [
      "The Testing of model data is: -0.21385802808615573%\n"
     ]
    }
   ],
   "source": [
    "print(f'The Testing of model data is: {model.score(BMI_disease_test, number_of_children_test)*100}%')"
   ]
  },
  {
   "cell_type": "markdown",
   "metadata": {},
   "source": [
    "## The predicting data and the test data: "
   ]
  },
  {
   "cell_type": "code",
   "execution_count": 176,
   "metadata": {},
   "outputs": [],
   "source": [
    "predict_data = model.predict(BMI_disease_test)"
   ]
  },
  {
   "cell_type": "code",
   "execution_count": 177,
   "metadata": {},
   "outputs": [
    {
     "data": {
      "text/plain": [
       "array([[1.10517147],\n",
       "       [1.07460108],\n",
       "       [1.0752435 ],\n",
       "       [1.09214582],\n",
       "       [1.06430018],\n",
       "       [1.07566439],\n",
       "       [1.10302268],\n",
       "       [1.06682556],\n",
       "       [1.06485399],\n",
       "       [1.12280483],\n",
       "       [1.16329952],\n",
       "       [1.0955573 ],\n",
       "       [1.1004973 ],\n",
       "       [1.0882913 ],\n",
       "       [1.0865634 ],\n",
       "       [1.1135894 ],\n",
       "       [1.09117112],\n",
       "       [1.09409524],\n",
       "       [1.08789255],\n",
       "       [1.17012248],\n",
       "       [1.12236178],\n",
       "       [1.09055085],\n",
       "       [1.04746431],\n",
       "       [1.0617748 ],\n",
       "       [1.11522869],\n",
       "       [1.12154214],\n",
       "       [1.10975703],\n",
       "       [1.113966  ],\n",
       "       [1.0621957 ],\n",
       "       [1.08532287],\n",
       "       [1.15988804],\n",
       "       [1.08029426],\n",
       "       [1.11564958],\n",
       "       [1.09334206],\n",
       "       [1.08523426],\n",
       "       [1.048727  ],\n",
       "       [1.12479855],\n",
       "       [1.10428537],\n",
       "       [1.06556287],\n",
       "       [1.08532287],\n",
       "       [1.06706924],\n",
       "       [1.13585263],\n",
       "       [1.10189291],\n",
       "       [1.11505147],\n",
       "       [1.06387929],\n",
       "       [1.08093668],\n",
       "       [1.07557578],\n",
       "       [1.09628833],\n",
       "       [1.07818977],\n",
       "       [1.13795711],\n",
       "       [1.13649505],\n",
       "       [1.05377776],\n",
       "       [1.08618681],\n",
       "       [1.06850915],\n",
       "       [1.06485399],\n",
       "       [1.11137416],\n",
       "       [1.11270331],\n",
       "       [1.10175999],\n",
       "       [1.0892217 ],\n",
       "       [1.09896878],\n",
       "       [1.0882913 ],\n",
       "       [1.0874495 ],\n",
       "       [1.08450322],\n",
       "       [1.09068376],\n",
       "       [1.10286761],\n",
       "       [1.07734798],\n",
       "       [1.06935094],\n",
       "       [1.10694367],\n",
       "       [1.15891334],\n",
       "       [1.15745127],\n",
       "       [1.06706924],\n",
       "       [1.05083149],\n",
       "       [1.04757508],\n",
       "       [1.05461956],\n",
       "       [1.10218089],\n",
       "       [1.06556287],\n",
       "       [1.06972753],\n",
       "       [1.06729076],\n",
       "       [1.08576591],\n",
       "       [1.06662619],\n",
       "       [1.07818977],\n",
       "       [1.11310205],\n",
       "       [1.06935094],\n",
       "       [1.08337345],\n",
       "       [1.05419866],\n",
       "       [1.09653201],\n",
       "       [1.08080376],\n",
       "       [1.09797192],\n",
       "       [1.06261659],\n",
       "       [1.11733317],\n",
       "       [1.07265166],\n",
       "       [1.07703785],\n",
       "       [1.03273293],\n",
       "       [1.07504412],\n",
       "       [1.08913309],\n",
       "       [1.08036071],\n",
       "       [1.12187442],\n",
       "       [1.12112124],\n",
       "       [1.03384055],\n",
       "       [1.036521  ],\n",
       "       [1.0604235 ],\n",
       "       [1.11226026],\n",
       "       [1.08913309],\n",
       "       [1.04292306],\n",
       "       [1.15160302],\n",
       "       [1.10260178],\n",
       "       [1.11048806],\n",
       "       [1.04157176],\n",
       "       [1.1450459 ],\n",
       "       [1.09458259],\n",
       "       [1.09334206],\n",
       "       [1.0617748 ],\n",
       "       [1.07991767],\n",
       "       [1.07725937],\n",
       "       [1.08567731],\n",
       "       [1.09207937],\n",
       "       [1.09123757],\n",
       "       [1.13210886],\n",
       "       [1.10481703],\n",
       "       [1.06352485],\n",
       "       [1.07566439],\n",
       "       [1.10891523],\n",
       "       [1.09498134],\n",
       "       [1.06051211],\n",
       "       [1.1000764 ],\n",
       "       [1.07776888],\n",
       "       [1.09250026],\n",
       "       [1.08408233],\n",
       "       [1.02726127],\n",
       "       [1.07061363],\n",
       "       [1.07145543],\n",
       "       [1.09542439],\n",
       "       [1.0752435 ],\n",
       "       [1.1171338 ],\n",
       "       [1.10043084],\n",
       "       [1.09068376],\n",
       "       [1.05466386],\n",
       "       [1.10915891],\n",
       "       [1.04633454],\n",
       "       [1.07070224],\n",
       "       [1.12732393],\n",
       "       [1.08789255],\n",
       "       [1.10694367],\n",
       "       [1.09965551],\n",
       "       [1.06893005],\n",
       "       [1.10384232],\n",
       "       [1.06680341],\n",
       "       [1.08113605],\n",
       "       [1.09586744],\n",
       "       [1.09896878],\n",
       "       [1.0617748 ],\n",
       "       [1.06430018],\n",
       "       [1.06884144],\n",
       "       [1.04757508],\n",
       "       [1.06640467],\n",
       "       [1.07061363],\n",
       "       [1.10512716],\n",
       "       [1.08071515],\n",
       "       [1.07734798],\n",
       "       [1.07903157],\n",
       "       [1.14721684],\n",
       "       [1.09418385],\n",
       "       [1.12023514],\n",
       "       [1.11059882],\n",
       "       [1.09123757],\n",
       "       [1.11093111],\n",
       "       [1.08629757],\n",
       "       [1.09460475],\n",
       "       [1.09376295],\n",
       "       [1.10827281],\n",
       "       [1.1135894 ],\n",
       "       [1.0874495 ],\n",
       "       [1.08239874],\n",
       "       [1.08678493],\n",
       "       [1.08390511],\n",
       "       [1.0491479 ],\n",
       "       [1.09502564],\n",
       "       [1.07818977],\n",
       "       [1.09628833],\n",
       "       [1.08197784],\n",
       "       [1.0878704 ],\n",
       "       [1.07167695],\n",
       "       [1.06977184],\n",
       "       [1.10189291],\n",
       "       [1.08191139],\n",
       "       [1.08155695],\n",
       "       [1.09312053],\n",
       "       [1.10175999],\n",
       "       [1.06935094],\n",
       "       [1.09881371],\n",
       "       [1.04447373],\n",
       "       [1.07355991],\n",
       "       [1.09502564],\n",
       "       [1.06261659],\n",
       "       [1.09713013],\n",
       "       [1.07548717],\n",
       "       [1.16365396],\n",
       "       [1.02936575],\n",
       "       [1.06724646],\n",
       "       [1.0621957 ],\n",
       "       [1.07655049],\n",
       "       [1.0892217 ],\n",
       "       [1.08257596],\n",
       "       [1.09292116],\n",
       "       [1.13503298],\n",
       "       [1.10554806],\n",
       "       [1.05546135],\n",
       "       [1.05803104],\n",
       "       [1.05289167],\n",
       "       [1.09418385],\n",
       "       [1.08913309],\n",
       "       [1.11163999],\n",
       "       [1.05967032],\n",
       "       [1.08155695],\n",
       "       [1.11748824],\n",
       "       [1.0878704 ],\n",
       "       [1.10920322],\n",
       "       [1.10260178],\n",
       "       [1.09701936],\n",
       "       [1.0617748 ],\n",
       "       [1.06144251],\n",
       "       [1.11212734],\n",
       "       [1.10530438],\n",
       "       [1.07460108],\n",
       "       [1.07313901],\n",
       "       [1.14283065],\n",
       "       [1.13485576],\n",
       "       [1.06430018],\n",
       "       [1.09376295],\n",
       "       [1.14174518],\n",
       "       [1.06261659],\n",
       "       [1.10915891],\n",
       "       [1.10175999],\n",
       "       [1.07987336],\n",
       "       [1.04746431],\n",
       "       [1.09945613],\n",
       "       [1.09945613],\n",
       "       [1.08071515],\n",
       "       [1.09628833],\n",
       "       [1.05156252],\n",
       "       [1.09808268],\n",
       "       [1.0604235 ],\n",
       "       [1.04241355],\n",
       "       [1.1126147 ],\n",
       "       [1.0711896 ],\n",
       "       [1.06875283],\n",
       "       [1.0882913 ],\n",
       "       [1.11607048],\n",
       "       [1.06046781],\n",
       "       [1.10694367],\n",
       "       [1.0882913 ],\n",
       "       [1.07460108],\n",
       "       [1.1004973 ],\n",
       "       [1.06977184],\n",
       "       [1.12280483],\n",
       "       [1.06095516],\n",
       "       [1.08071515],\n",
       "       [1.06485399],\n",
       "       [1.10517147],\n",
       "       [1.07608529],\n",
       "       [1.0613539 ],\n",
       "       [1.0865634 ],\n",
       "       [1.07681632],\n",
       "       [1.13206455],\n",
       "       [1.048727  ],\n",
       "       [1.09334206],\n",
       "       [1.0865634 ],\n",
       "       [1.06556287]])"
      ]
     },
     "execution_count": 177,
     "metadata": {},
     "output_type": "execute_result"
    }
   ],
   "source": [
    "predict_data"
   ]
  },
  {
   "cell_type": "markdown",
   "metadata": {},
   "source": [
    "## The test data:"
   ]
  },
  {
   "cell_type": "code",
   "execution_count": 178,
   "metadata": {},
   "outputs": [
    {
     "data": {
      "text/plain": [
       "array([[34.4  ],\n",
       "       [27.5  ],\n",
       "       [27.645],\n",
       "       [31.46 ],\n",
       "       [25.175],\n",
       "       [27.74 ],\n",
       "       [33.915],\n",
       "       [25.745],\n",
       "       [25.3  ],\n",
       "       [38.38 ],\n",
       "       [47.52 ],\n",
       "       [32.23 ],\n",
       "       [33.345],\n",
       "       [30.59 ],\n",
       "       [30.2  ],\n",
       "       [36.3  ],\n",
       "       [31.24 ],\n",
       "       [31.9  ],\n",
       "       [30.5  ],\n",
       "       [49.06 ],\n",
       "       [38.28 ],\n",
       "       [31.1  ],\n",
       "       [21.375],\n",
       "       [24.605],\n",
       "       [36.67 ],\n",
       "       [38.095],\n",
       "       [35.435],\n",
       "       [36.385],\n",
       "       [24.7  ],\n",
       "       [29.92 ],\n",
       "       [46.75 ],\n",
       "       [28.785],\n",
       "       [36.765],\n",
       "       [31.73 ],\n",
       "       [29.9  ],\n",
       "       [21.66 ],\n",
       "       [38.83 ],\n",
       "       [34.2  ],\n",
       "       [25.46 ],\n",
       "       [29.92 ],\n",
       "       [25.8  ],\n",
       "       [41.325],\n",
       "       [33.66 ],\n",
       "       [36.63 ],\n",
       "       [25.08 ],\n",
       "       [28.93 ],\n",
       "       [27.72 ],\n",
       "       [32.395],\n",
       "       [28.31 ],\n",
       "       [41.8  ],\n",
       "       [41.47 ],\n",
       "       [22.8  ],\n",
       "       [30.115],\n",
       "       [26.125],\n",
       "       [25.3  ],\n",
       "       [35.8  ],\n",
       "       [36.1  ],\n",
       "       [33.63 ],\n",
       "       [30.8  ],\n",
       "       [33.   ],\n",
       "       [30.59 ],\n",
       "       [30.4  ],\n",
       "       [29.735],\n",
       "       [31.13 ],\n",
       "       [33.88 ],\n",
       "       [28.12 ],\n",
       "       [26.315],\n",
       "       [34.8  ],\n",
       "       [46.53 ],\n",
       "       [46.2  ],\n",
       "       [25.8  ],\n",
       "       [22.135],\n",
       "       [21.4  ],\n",
       "       [22.99 ],\n",
       "       [33.725],\n",
       "       [25.46 ],\n",
       "       [26.4  ],\n",
       "       [25.85 ],\n",
       "       [30.02 ],\n",
       "       [25.7  ],\n",
       "       [28.31 ],\n",
       "       [36.19 ],\n",
       "       [26.315],\n",
       "       [29.48 ],\n",
       "       [22.895],\n",
       "       [32.45 ],\n",
       "       [28.9  ],\n",
       "       [32.775],\n",
       "       [24.795],\n",
       "       [37.145],\n",
       "       [27.06 ],\n",
       "       [28.05 ],\n",
       "       [18.05 ],\n",
       "       [27.6  ],\n",
       "       [30.78 ],\n",
       "       [28.8  ],\n",
       "       [38.17 ],\n",
       "       [38.   ],\n",
       "       [18.3  ],\n",
       "       [18.905],\n",
       "       [24.3  ],\n",
       "       [36.   ],\n",
       "       [30.78 ],\n",
       "       [20.35 ],\n",
       "       [44.88 ],\n",
       "       [33.82 ],\n",
       "       [35.6  ],\n",
       "       [20.045],\n",
       "       [43.4  ],\n",
       "       [32.01 ],\n",
       "       [31.73 ],\n",
       "       [24.605],\n",
       "       [28.7  ],\n",
       "       [28.1  ],\n",
       "       [30.   ],\n",
       "       [31.445],\n",
       "       [31.255],\n",
       "       [40.48 ],\n",
       "       [34.32 ],\n",
       "       [25.   ],\n",
       "       [27.74 ],\n",
       "       [35.245],\n",
       "       [32.1  ],\n",
       "       [24.32 ],\n",
       "       [33.25 ],\n",
       "       [28.215],\n",
       "       [31.54 ],\n",
       "       [29.64 ],\n",
       "       [16.815],\n",
       "       [26.6  ],\n",
       "       [26.79 ],\n",
       "       [32.2  ],\n",
       "       [27.645],\n",
       "       [37.1  ],\n",
       "       [33.33 ],\n",
       "       [31.13 ],\n",
       "       [23.   ],\n",
       "       [35.3  ],\n",
       "       [21.12 ],\n",
       "       [26.62 ],\n",
       "       [39.4  ],\n",
       "       [30.5  ],\n",
       "       [34.8  ],\n",
       "       [33.155],\n",
       "       [26.22 ],\n",
       "       [34.1  ],\n",
       "       [25.74 ],\n",
       "       [28.975],\n",
       "       [32.3  ],\n",
       "       [33.   ],\n",
       "       [24.605],\n",
       "       [25.175],\n",
       "       [26.2  ],\n",
       "       [21.4  ],\n",
       "       [25.65 ],\n",
       "       [26.6  ],\n",
       "       [34.39 ],\n",
       "       [28.88 ],\n",
       "       [28.12 ],\n",
       "       [28.5  ],\n",
       "       [43.89 ],\n",
       "       [31.92 ],\n",
       "       [37.8  ],\n",
       "       [35.625],\n",
       "       [31.255],\n",
       "       [35.7  ],\n",
       "       [30.14 ],\n",
       "       [32.015],\n",
       "       [31.825],\n",
       "       [35.1  ],\n",
       "       [36.3  ],\n",
       "       [30.4  ],\n",
       "       [29.26 ],\n",
       "       [30.25 ],\n",
       "       [29.6  ],\n",
       "       [21.755],\n",
       "       [32.11 ],\n",
       "       [28.31 ],\n",
       "       [32.395],\n",
       "       [29.165],\n",
       "       [30.495],\n",
       "       [26.84 ],\n",
       "       [26.41 ],\n",
       "       [33.66 ],\n",
       "       [29.15 ],\n",
       "       [29.07 ],\n",
       "       [31.68 ],\n",
       "       [33.63 ],\n",
       "       [26.315],\n",
       "       [32.965],\n",
       "       [20.7  ],\n",
       "       [27.265],\n",
       "       [32.11 ],\n",
       "       [24.795],\n",
       "       [32.585],\n",
       "       [27.7  ],\n",
       "       [47.6  ],\n",
       "       [17.29 ],\n",
       "       [25.84 ],\n",
       "       [24.7  ],\n",
       "       [27.94 ],\n",
       "       [30.8  ],\n",
       "       [29.3  ],\n",
       "       [31.635],\n",
       "       [41.14 ],\n",
       "       [34.485],\n",
       "       [23.18 ],\n",
       "       [23.76 ],\n",
       "       [22.6  ],\n",
       "       [31.92 ],\n",
       "       [30.78 ],\n",
       "       [35.86 ],\n",
       "       [24.13 ],\n",
       "       [29.07 ],\n",
       "       [37.18 ],\n",
       "       [30.495],\n",
       "       [35.31 ],\n",
       "       [33.82 ],\n",
       "       [32.56 ],\n",
       "       [24.605],\n",
       "       [24.53 ],\n",
       "       [35.97 ],\n",
       "       [34.43 ],\n",
       "       [27.5  ],\n",
       "       [27.17 ],\n",
       "       [42.9  ],\n",
       "       [41.1  ],\n",
       "       [25.175],\n",
       "       [31.825],\n",
       "       [42.655],\n",
       "       [24.795],\n",
       "       [35.3  ],\n",
       "       [33.63 ],\n",
       "       [28.69 ],\n",
       "       [21.375],\n",
       "       [33.11 ],\n",
       "       [33.11 ],\n",
       "       [28.88 ],\n",
       "       [32.395],\n",
       "       [22.3  ],\n",
       "       [32.8  ],\n",
       "       [24.3  ],\n",
       "       [20.235],\n",
       "       [36.08 ],\n",
       "       [26.73 ],\n",
       "       [26.18 ],\n",
       "       [30.59 ],\n",
       "       [36.86 ],\n",
       "       [24.31 ],\n",
       "       [34.8  ],\n",
       "       [30.59 ],\n",
       "       [27.5  ],\n",
       "       [33.345],\n",
       "       [26.41 ],\n",
       "       [38.38 ],\n",
       "       [24.42 ],\n",
       "       [28.88 ],\n",
       "       [25.3  ],\n",
       "       [34.4  ],\n",
       "       [27.835],\n",
       "       [24.51 ],\n",
       "       [30.2  ],\n",
       "       [28.   ],\n",
       "       [40.47 ],\n",
       "       [21.66 ],\n",
       "       [31.73 ],\n",
       "       [30.2  ],\n",
       "       [25.46 ]])"
      ]
     },
     "execution_count": 178,
     "metadata": {},
     "output_type": "execute_result"
    }
   ],
   "source": [
    "BMI_disease_test"
   ]
  },
  {
   "cell_type": "markdown",
   "metadata": {},
   "source": [
    "## visualization for the training,testing and predicting data"
   ]
  },
  {
   "cell_type": "code",
   "execution_count": null,
   "metadata": {},
   "outputs": [],
   "source": []
  },
  {
   "cell_type": "code",
   "execution_count": 183,
   "metadata": {},
   "outputs": [
    {
     "data": {
      "image/png": "[encoded data removed]",
      "text/plain": [
       "<Figure size 432x288 with 1 Axes>"
      ]
     },
     "metadata": {
      "needs_background": "light"
     },
     "output_type": "display_data"
    }
   ],
   "source": [
    "plt.scatter(BMI_disease_train, number_of_children_train, color='blue')\n",
    "plt.scatter(BMI_disease_test, number_of_children_test, color='red')\n",
    "plt.scatter(BMI_disease_test, predict_data, color='black')\n",
    "plt.xlabel('BMI')\n",
    "plt.ylabel('Number of children')\n",
    "plt.title('Number of children with BMI disease')\n",
    "plt.show()"
   ]
  },
  {
   "cell_type": "code",
   "execution_count": null,
   "metadata": {},
   "outputs": [],
   "source": []
  }
 ],
 "metadata": {
  "kernelspec": {
   "display_name": "Python 3",
   "language": "python",
   "name": "python3"
  },
  "language_info": {
   "codemirror_mode": {
    "name": "ipython",
    "version": 3
   },
   "file_extension": ".py",
   "mimetype": "text/x-python",
   "name": "python",
   "nbconvert_exporter": "python",
   "pygments_lexer": "ipython3",
   "version": "3.9.0"
  }
 },
 "nbformat": 4,
 "nbformat_minor": 4
}
